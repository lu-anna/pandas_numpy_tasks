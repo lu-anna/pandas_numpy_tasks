{
 "cells": [
  {
   "cell_type": "markdown",
   "id": "d3df79dd",
   "metadata": {},
   "source": [
    "## Упражнения по библиотеке Numpy"
   ]
  },
  {
   "cell_type": "code",
   "execution_count": 2,
   "id": "76b9c43b",
   "metadata": {},
   "outputs": [],
   "source": [
    "import numpy as np\n"
   ]
  },
  {
   "cell_type": "markdown",
   "id": "03727b7c",
   "metadata": {},
   "source": [
    "**1.** Дан случайный массив, поменять знак у элементов, значения которых между 3 и 8"
   ]
  },
  {
   "cell_type": "markdown",
   "id": "840d2ccd",
   "metadata": {},
   "source": [
    "**1st approach:** by means of mask "
   ]
  },
  {
   "cell_type": "code",
   "execution_count": 14,
   "id": "b89a7523",
   "metadata": {},
   "outputs": [
    {
     "data": {
      "text/plain": [
       "array([ 0,  1,  2,  3, -4, -5, -6, -7,  8,  9])"
      ]
     },
     "execution_count": 14,
     "metadata": {},
     "output_type": "execute_result"
    }
   ],
   "source": [
    "arr = np.arange(10)\n",
    "arr[(arr > 3) & (arr < 8)] *= -1\n",
    "arr"
   ]
  },
  {
   "cell_type": "markdown",
   "id": "f48c596c",
   "metadata": {},
   "source": [
    "**2nd approach:** by means of np.where method"
   ]
  },
  {
   "cell_type": "code",
   "execution_count": 17,
   "id": "8132c0cf",
   "metadata": {},
   "outputs": [
    {
     "data": {
      "text/plain": [
       "array([ 0,  1,  2,  3, -4, -5, -6, -7,  8,  9])"
      ]
     },
     "execution_count": 17,
     "metadata": {},
     "output_type": "execute_result"
    }
   ],
   "source": [
    "arr = np.arange(10)\n",
    "np.where((arr > 3) & (arr < 8), arr*(-1), arr)\n"
   ]
  },
  {
   "cell_type": "markdown",
   "id": "5fa4abda",
   "metadata": {},
   "source": [
    "**2.** Заменить максимальный элемент случайного массива на 0"
   ]
  },
  {
   "cell_type": "code",
   "execution_count": 16,
   "id": "f2788a6e",
   "metadata": {},
   "outputs": [
    {
     "data": {
      "text/plain": [
       "array([0, 1, 2, 3, 4, 5, 6, 7, 8, 0])"
      ]
     },
     "execution_count": 16,
     "metadata": {},
     "output_type": "execute_result"
    }
   ],
   "source": [
    "arr = np.arange(10)\n",
    "arr[np.max(arr)] = 0\n",
    "arr"
   ]
  },
  {
   "cell_type": "markdown",
   "id": "3cac656b",
   "metadata": {},
   "source": [
    "**3.** Построить прямое произведение массивов (все комбинации с каждым элементом). На вход подается двумерный массив"
   ]
  },
  {
   "cell_type": "markdown",
   "id": "b1aeeb4c",
   "metadata": {},
   "source": [
    "**1st approach:** by means of product in intertools modul"
   ]
  },
  {
   "cell_type": "code",
   "execution_count": 5,
   "id": "ac23038d",
   "metadata": {},
   "outputs": [
    {
     "name": "stdout",
     "output_type": "stream",
     "text": [
      "(array([1, 2]), array([5, 6, 7]))\n",
      "(array([1, 2]), array([ 8,  9, 10]))\n",
      "(array([3, 4]), array([5, 6, 7]))\n",
      "(array([3, 4]), array([ 8,  9, 10]))\n"
     ]
    }
   ],
   "source": [
    "import itertools as it\n",
    "arr1 = np.array([[1,2],[3,4]])\n",
    "arr2 = np.array([[5,6,7],[8,9,10]])\n",
    "cartesian = it.product(arr1, arr2)\n",
    "for i in cartesian:\n",
    "    print(i)"
   ]
  },
  {
   "cell_type": "markdown",
   "id": "674c9354",
   "metadata": {},
   "source": [
    "**4.** Даны 2 массива A (8x3) и B (2x2). Найти строки в A, которые содержат элементы из каждой строки в B, независимо от порядка элементов в B"
   ]
  },
  {
   "cell_type": "code",
   "execution_count": 43,
   "id": "cb664782",
   "metadata": {},
   "outputs": [
    {
     "data": {
      "text/plain": [
       "array([[0, 1, 1],\n",
       "       [0, 1, 1],\n",
       "       [1, 1, 0],\n",
       "       [0, 1, 0],\n",
       "       [0, 1, 0],\n",
       "       [1, 1, 0]])"
      ]
     },
     "execution_count": 43,
     "metadata": {},
     "output_type": "execute_result"
    }
   ],
   "source": [
    "np.random.seed(0)\n",
    "A = np.random.randint(0, 2, size=(8, 3))\n",
    "B = np.random.randint(0, 2, size=(2, 2))\n",
    "C = np.unique(B)\n",
    "mask = [set(C).issubset(set(element)) for element in A]\n",
    "A[mask]   "
   ]
  },
  {
   "cell_type": "markdown",
   "id": "fa46533b",
   "metadata": {},
   "source": [
    "**5.** Дана 10x3 матрица, найти строки из неравных значений (например строка [2,2,3] остается, строка [3,3,3] удаляется)"
   ]
  },
  {
   "cell_type": "code",
   "execution_count": 39,
   "id": "fa545b23",
   "metadata": {},
   "outputs": [
    {
     "data": {
      "text/plain": [
       "array([[0, 1, 1],\n",
       "       [0, 1, 1],\n",
       "       [1, 1, 0],\n",
       "       [0, 1, 0],\n",
       "       [0, 1, 0],\n",
       "       [1, 1, 0],\n",
       "       [0, 1, 1],\n",
       "       [1, 1, 0]])"
      ]
     },
     "execution_count": 39,
     "metadata": {},
     "output_type": "execute_result"
    }
   ],
   "source": [
    "np.random.seed(0)\n",
    "arr = np.random.randint(0, 3, size=(10, 3))\n",
    "mask = [True if len(np.unique(np.array(element)))>=2 else False for element in arr]\n",
    "arr[mask]"
   ]
  },
  {
   "cell_type": "markdown",
   "id": "28f0d116",
   "metadata": {},
   "source": [
    "**6.** Дан двумерный массив. Удалить те строки, которые повторяются"
   ]
  },
  {
   "cell_type": "code",
   "execution_count": 4,
   "id": "83d2c0b7",
   "metadata": {},
   "outputs": [
    {
     "data": {
      "text/plain": [
       "array([[0, 2, 2],\n",
       "       [1, 0, 2],\n",
       "       [1, 1, 1],\n",
       "       [1, 2, 2],\n",
       "       [2, 1, 0]])"
      ]
     },
     "execution_count": 4,
     "metadata": {},
     "output_type": "execute_result"
    }
   ],
   "source": [
    "arr = np.random.randint(0, 3, size=(8, 3))\n",
    "np.unique(arr, axis = 0)"
   ]
  },
  {
   "cell_type": "markdown",
   "id": "6daa9e37",
   "metadata": {},
   "source": [
    "______\n",
    "______"
   ]
  },
  {
   "cell_type": "markdown",
   "id": "cfbfcaff",
   "metadata": {},
   "source": [
    "Для каждой из следующих задач (1-5) нужно привести 2 реализации – одна без использования numpy (cчитайте, что там, где на входе или выходе должны быть numpy array, будут просто списки), а вторая полностью векторизованная с использованием numpy (без использования питоновских циклов/map/list comprehension).\n",
    "\n",
    "\n",
    "__Замечание 1.__ Можно считать, что все указанные объекты непустые (к примеру, в __задаче 1__ на диагонали матрицы есть ненулевые элементы).\n",
    "\n",
    "__Замечание 2.__ Для большинства задач решение занимает не больше 1-2 строк."
   ]
  },
  {
   "cell_type": "markdown",
   "id": "673cac7f",
   "metadata": {},
   "source": [
    "___"
   ]
  },
  {
   "cell_type": "markdown",
   "id": "ca6f585e",
   "metadata": {},
   "source": [
    "* __Задача 1__: Подсчитать произведение ненулевых элементов на диагонали прямоугольной матрицы.  \n",
    " Например, для X = np.array([[1, 0, 1], [2, 0, 2], [3, 0, 3], [4, 4, 4]]) ответ 3."
   ]
  },
  {
   "cell_type": "markdown",
   "id": "8fce0a4b",
   "metadata": {},
   "source": [
    "**1st approach:** using numpy"
   ]
  },
  {
   "cell_type": "code",
   "execution_count": 53,
   "id": "eb0ab989",
   "metadata": {},
   "outputs": [
    {
     "data": {
      "text/plain": [
       "3"
      ]
     },
     "execution_count": 53,
     "metadata": {},
     "output_type": "execute_result"
    }
   ],
   "source": [
    "X = np.array([[1, 0, 1], [2, 0, 2], [3, 0, 3], [4, 4, 4]]) \n",
    "np.array(np.diagonal(X))[np.array(np.diagonal(X)) != 0].prod()"
   ]
  },
  {
   "cell_type": "markdown",
   "id": "cb7cb621",
   "metadata": {},
   "source": [
    "**2nd approach:** without numpy"
   ]
  },
  {
   "cell_type": "code",
   "execution_count": 55,
   "id": "db62f5f1",
   "metadata": {},
   "outputs": [
    {
     "data": {
      "text/plain": [
       "3"
      ]
     },
     "execution_count": 55,
     "metadata": {},
     "output_type": "execute_result"
    }
   ],
   "source": [
    "X = [[1, 0, 1], [2, 0, 2], [3, 0, 3], [4, 4, 4]]\n",
    "prod = 1\n",
    "for i in range(len(X)):\n",
    "    for j in range(len(X[i])):\n",
    "        if i == j and X[i][j] != 0:\n",
    "            prod *= X[i][j]           "
   ]
  },
  {
   "cell_type": "markdown",
   "id": "9fc51d41",
   "metadata": {},
   "source": [
    "* __Задача 2__: Даны два вектора x и y. Проверить, задают ли они одно и то же мультимножество.  \n",
    "  Например, для x = np.array([1, 2, 2, 4]), y = np.array([4, 2, 1, 2]) ответ True."
   ]
  },
  {
   "cell_type": "markdown",
   "id": "c555e46b",
   "metadata": {},
   "source": [
    "**1st approach:** using numpy. In this task we must find out if the numpy arrays consist of the same elements regardless of their order."
   ]
  },
  {
   "cell_type": "code",
   "execution_count": 4,
   "id": "79fab4a3",
   "metadata": {},
   "outputs": [
    {
     "data": {
      "text/plain": [
       "True"
      ]
     },
     "execution_count": 4,
     "metadata": {},
     "output_type": "execute_result"
    }
   ],
   "source": [
    "x = np.array([1, 2, 2, 4])\n",
    "y = np.array([4, 2, 1, 2]) \n",
    "np.array_equal(x.sort(),y.sort())"
   ]
  },
  {
   "cell_type": "markdown",
   "id": "03fc38ba",
   "metadata": {},
   "source": [
    "**2nd approach:** without numpy"
   ]
  },
  {
   "cell_type": "code",
   "execution_count": 6,
   "id": "d96465b8",
   "metadata": {},
   "outputs": [
    {
     "data": {
      "text/plain": [
       "True"
      ]
     },
     "execution_count": 6,
     "metadata": {},
     "output_type": "execute_result"
    }
   ],
   "source": [
    "x = [1, 2, 2, 4]\n",
    "y = [4, 2, 1, 2]\n",
    "x.sort() == y.sort()"
   ]
  },
  {
   "cell_type": "markdown",
   "id": "b9c185c7",
   "metadata": {},
   "source": [
    "* __Задача 3__: Найти максимальный элемент в векторе x среди элементов, перед которыми стоит ноль. \n",
    " Например, для x = np.array([6, 2, 0, 3, 0, 0, 5, 7, 0]) ответ 5."
   ]
  },
  {
   "cell_type": "markdown",
   "id": "f771d93b",
   "metadata": {},
   "source": [
    "**1st approach:** using numpy"
   ]
  },
  {
   "cell_type": "code",
   "execution_count": 13,
   "id": "b57df008",
   "metadata": {},
   "outputs": [
    {
     "data": {
      "text/plain": [
       "5"
      ]
     },
     "execution_count": 13,
     "metadata": {},
     "output_type": "execute_result"
    }
   ],
   "source": [
    "x = np.array([6, 2, 0, 3, 0, 0, 5, 7, 0])\n",
    "np.max((x[1:][(x==0)[:-1]]))"
   ]
  },
  {
   "cell_type": "markdown",
   "id": "99a8326f",
   "metadata": {},
   "source": [
    "**2nd approach:** without numpy"
   ]
  },
  {
   "cell_type": "code",
   "execution_count": 12,
   "id": "abb617c8",
   "metadata": {},
   "outputs": [
    {
     "data": {
      "text/plain": [
       "5"
      ]
     },
     "execution_count": 12,
     "metadata": {},
     "output_type": "execute_result"
    }
   ],
   "source": [
    "x = [6, 2, 0, 3, 0, 0, 5, 7, 0]\n",
    "max([x[i] for i in range(1, len(x)) if x[i - 1] == 0])"
   ]
  },
  {
   "cell_type": "markdown",
   "id": "480be4ce",
   "metadata": {},
   "source": [
    "* __Задача 4__: Реализовать кодирование длин серий (Run-length encoding). Для некоторого вектора x необходимо вернуть кортеж из двух векторов одинаковой длины. Первый содержит числа, а второй - сколько раз их нужно повторить.  \n",
    " Например, для x = np.array([2, 2, 2, 3, 3, 3, 5]) ответ (np.array([2, 3, 5]), np.array([3, 3, 1]))."
   ]
  },
  {
   "cell_type": "markdown",
   "id": "7707dbfd",
   "metadata": {},
   "source": [
    "**1st approach:** with numpy"
   ]
  },
  {
   "cell_type": "code",
   "execution_count": 5,
   "id": "ec83ca87",
   "metadata": {},
   "outputs": [
    {
     "data": {
      "text/plain": [
       "(array([2, 3, 5]), array([3, 3, 1], dtype=int64))"
      ]
     },
     "execution_count": 5,
     "metadata": {},
     "output_type": "execute_result"
    }
   ],
   "source": [
    "x = np.array([2, 2, 2, 3, 3, 3, 5])\n",
    "np.unique(x, return_counts=True)"
   ]
  },
  {
   "cell_type": "markdown",
   "id": "75c9b9d8",
   "metadata": {},
   "source": [
    "**2nd approach:** without numpy, using dict"
   ]
  },
  {
   "cell_type": "code",
   "execution_count": 13,
   "id": "73e68682",
   "metadata": {},
   "outputs": [
    {
     "data": {
      "text/plain": [
       "([2, 3, 5], [3, 3, 1])"
      ]
     },
     "execution_count": 13,
     "metadata": {},
     "output_type": "execute_result"
    }
   ],
   "source": [
    "x = np.array([2, 2, 2, 3, 3, 3, 5])\n",
    "result = {}\n",
    "for element in x:\n",
    "    result[element] = result.get(element, 0) + 1\n",
    "values = [key for key in result.keys()]\n",
    "val_frequency = [values for values in result.values()]\n",
    "result_coding = (values, val_frequency)\n",
    "result_coding"
   ]
  },
  {
   "cell_type": "markdown",
   "id": "077532ec",
   "metadata": {},
   "source": [
    "* __Задача 5__: Даны две выборки объектов - X и Y. Вычислить матрицу евклидовых расстояний между объектами. Сравните с функцией scipy.spatial.distance.cdist по скорости работы."
   ]
  },
  {
   "cell_type": "markdown",
   "id": "6be0fbcc",
   "metadata": {},
   "source": [
    "**1st approach:** without numpy using scipy.spatial.distance.cdist"
   ]
  },
  {
   "cell_type": "code",
   "execution_count": 35,
   "id": "1e807797",
   "metadata": {},
   "outputs": [
    {
     "name": "stdout",
     "output_type": "stream",
     "text": [
      "Wall time: 1.02 ms\n"
     ]
    },
    {
     "data": {
      "text/plain": [
       "array([[1.41421356, 2.82842712, 4.24264069],\n",
       "       [1.        , 2.23606798, 3.60555128],\n",
       "       [1.41421356, 2.        , 3.16227766]])"
      ]
     },
     "execution_count": 35,
     "metadata": {},
     "output_type": "execute_result"
    }
   ],
   "source": [
    "%%time\n",
    "from scipy.spatial import distance\n",
    "X = [(1,2),(1,3),(1,4)]\n",
    "Y = [(2,3),(3,4),(4,5)]\n",
    "distance.cdist(X, Y, 'euclidean')"
   ]
  },
  {
   "cell_type": "markdown",
   "id": "48a14c6d",
   "metadata": {},
   "source": [
    "**2nd approach:** with numpy"
   ]
  },
  {
   "cell_type": "markdown",
   "id": "c8d324e4",
   "metadata": {},
   "source": [
    "%%time\n",
    "X = np.array([(1,2),(1,3),(1,4)])\n",
    "Y = np.array([(2,3),(3,4),(4,5)])\n",
    "distance = np.linalg.norm(X-Y, axis = 1)\n",
    "distance"
   ]
  },
  {
   "cell_type": "markdown",
   "id": "89df6e0b",
   "metadata": {},
   "source": [
    "**Summaries:** numpy provided euclidean distance evaluation much faster than scipy.spatial.distance.cdist"
   ]
  },
  {
   "cell_type": "markdown",
   "id": "1104acb7",
   "metadata": {},
   "source": [
    "* #### __Задача 6__: CrunchieMunchies __*__\n",
    "\n",
    "Вы работаете в отделе маркетинга пищевой компании MyCrunch, которая разрабатывает новый вид вкусных, полезных злаков под названием **CrunchieMunchies**.\n",
    "\n",
    "Вы хотите продемонстрировать потребителям, насколько полезны ваши хлопья по сравнению с другими ведущими брендами, поэтому вы собрали данные о питании нескольких разных конкурентов.\n",
    "\n",
    "Ваша задача - использовать вычисления Numpy для анализа этих данных и доказать, что ваши **СrunchieMunchies** - самый здоровый выбор для потребителей.\n"
   ]
  },
  {
   "cell_type": "code",
   "execution_count": 39,
   "id": "10a77f8d",
   "metadata": {},
   "outputs": [],
   "source": [
    "import numpy as np"
   ]
  },
  {
   "cell_type": "markdown",
   "id": "ab87cb03",
   "metadata": {},
   "source": [
    "1. Просмотрите файл cereal.csv. Этот файл содержит количества калорий для различных марок хлопьев. Загрузите данные из файла и сохраните их как calorie_stats."
   ]
  },
  {
   "cell_type": "code",
   "execution_count": 52,
   "id": "9681ebf2",
   "metadata": {},
   "outputs": [
    {
     "data": {
      "text/plain": [
       "106.88311688311688"
      ]
     },
     "execution_count": 52,
     "metadata": {},
     "output_type": "execute_result"
    }
   ],
   "source": [
    "calorie_stats = np.loadtxt(\"./data/cereal.csv\", delimiter=\",\")\n",
    "np.average(calorie_stats)"
   ]
  },
  {
   "cell_type": "markdown",
   "id": "139cfbd8",
   "metadata": {},
   "source": [
    "2. В одной порции CrunchieMunchies содержится 60 калорий. Насколько выше среднее количество калорий у ваших конкурентов?\n",
    "\n",
    "Сохраните ответ в переменной average_calories и распечатайте переменную в терминале"
   ]
  },
  {
   "cell_type": "code",
   "execution_count": 43,
   "id": "7036d240",
   "metadata": {},
   "outputs": [
    {
     "data": {
      "text/plain": [
       "46.883116883116884"
      ]
     },
     "execution_count": 43,
     "metadata": {},
     "output_type": "execute_result"
    }
   ],
   "source": [
    "average_calories = np.average(calorie_stats) - 60\n",
    "average_calories"
   ]
  },
  {
   "cell_type": "markdown",
   "id": "b2ddb4cd",
   "metadata": {},
   "source": [
    "3. Корректно ли среднее количество калорий отражает распределение набора данных? Давайте отсортируем данные и посмотрим.\n",
    "\n",
    "Отсортируйте данные и сохраните результат в переменной calorie_stats_sorted. Распечатайте отсортированную информацию"
   ]
  },
  {
   "cell_type": "code",
   "execution_count": 49,
   "id": "46eeb4ed",
   "metadata": {},
   "outputs": [
    {
     "data": {
      "text/plain": [
       "77"
      ]
     },
     "execution_count": 49,
     "metadata": {},
     "output_type": "execute_result"
    }
   ],
   "source": [
    "calorie_stats_sorted = np.sort(calorie_stats)\n",
    "len(calorie_stats_sorted)"
   ]
  },
  {
   "cell_type": "markdown",
   "id": "4dc74116",
   "metadata": {},
   "source": [
    "4. Похоже, что большинство значений выше среднего. Давайте посмотрим, является ли медиана наиболее корректным показателем набора данных.\n",
    "\n",
    "Вычислите медиану набора данных и сохраните свой ответ в median_calories. Выведите медиану, чтобы вы могли видеть, как она сравнивается со средним значением."
   ]
  },
  {
   "cell_type": "code",
   "execution_count": 45,
   "id": "b56627c3",
   "metadata": {},
   "outputs": [
    {
     "data": {
      "text/plain": [
       "110.0"
      ]
     },
     "execution_count": 45,
     "metadata": {},
     "output_type": "execute_result"
    }
   ],
   "source": [
    "median_calories = np.median(calorie_stats)\n",
    "median_calories"
   ]
  },
  {
   "cell_type": "markdown",
   "id": "a63ab72f",
   "metadata": {},
   "source": [
    "5. В то время как медиана показывает, что по крайней мере половина наших значений составляет более 100 калорий, было бы более впечатляюще показать, что значительная часть конкурентов имеет более высокое количество калорий, чем CrunchieMunchies.\n",
    "\n",
    "Рассчитайте различные процентили и распечатайте их, пока не найдете наименьший процентиль, превышающий 60 калорий. Сохраните это значение в переменной nth_percentile."
   ]
  },
  {
   "cell_type": "code",
   "execution_count": 46,
   "id": "fe80ce03",
   "metadata": {},
   "outputs": [
    {
     "data": {
      "text/plain": [
       "4"
      ]
     },
     "execution_count": 46,
     "metadata": {},
     "output_type": "execute_result"
    }
   ],
   "source": [
    "nth_percentile = 0\n",
    "while np.percentile(calorie_stats, nth_percentile) <= 60:\n",
    "    nth_percentile += 1\n",
    "nth_percentile"
   ]
  },
  {
   "cell_type": "markdown",
   "id": "a2a3c5aa",
   "metadata": {},
   "source": [
    "6. Хотя процентиль показывает нам, что у большинства конкурентов количество калорий намного выше, это неудобная концепция для использования в маркетинговых материалах.\n",
    "\n",
    "Вместо этого давайте подсчитаем процент хлопьев, в которых содержится более 60 калорий на порцию. Сохраните свой ответ в переменной more_calories и распечатайте его"
   ]
  },
  {
   "cell_type": "code",
   "execution_count": 47,
   "id": "ade0f6ea",
   "metadata": {},
   "outputs": [
    {
     "data": {
      "text/plain": [
       "0.961038961038961"
      ]
     },
     "execution_count": 47,
     "metadata": {},
     "output_type": "execute_result"
    }
   ],
   "source": [
    "more_calories = len(calorie_stats[calorie_stats > 60]) / len(calorie_stats)\n",
    "more_calories"
   ]
  },
  {
   "cell_type": "markdown",
   "id": "1735d65b",
   "metadata": {},
   "source": [
    "7. Это действительно высокий процент. Это будет очень полезно, когда мы будем продвигать CrunchieMunchies. Но один вопрос заключается в том, насколько велики различия в наборе данных? Можем ли мы сделать обобщение, что в большинстве злаков содержится около 100 калорий или разброс еще больше?\n",
    "\n",
    "Рассчитайте величину отклонения, найдя стандартное отклонение, Сохраните свой ответ в calorie_std и распечатайте на терминале. Как мы можем включить эту ценность в наш анализ?"
   ]
  },
  {
   "cell_type": "code",
   "execution_count": 48,
   "id": "85c8df1f",
   "metadata": {},
   "outputs": [
    {
     "data": {
      "text/plain": [
       "19.35718533390827"
      ]
     },
     "execution_count": 48,
     "metadata": {},
     "output_type": "execute_result"
    }
   ],
   "source": [
    "calorie_std = np.std(calorie_stats)\n",
    "calorie_std"
   ]
  },
  {
   "cell_type": "markdown",
   "id": "037455c5",
   "metadata": {},
   "source": [
    "8. Напишите короткий абзац, в котором кратко изложите свои выводы и то, как, по вашему мнению, эти данные могут быть использованы в интересах Mycrunch при маркетинге CrunchieMunchies."
   ]
  },
  {
   "cell_type": "markdown",
   "id": "0601b074",
   "metadata": {},
   "source": [
    "**Summaries:** At the beginning, I will briefly characterize the sample. The sample consists of 77 calorie indicators of cereals of different brands, min = 50, max = 160, avg = 108, median = 110. The distribution of the sample indicators is close to the normal distribution, without abnormal values that could significantly distort the result. The standard error of the mean of 2.2 can be calculated based on the standart deviation, so the confidence interval is: [102.7; 111.3]. Taking the significance level of cliteria = 0.05, we can consider the results of the evaluation to be reliable.\n",
    "\n",
    "However, it is obvious that for an ordinary consumer, the calculation of indicators of mathematical statistics is not interesting, boring and incomprehensible. The consumer is interested in personal profit, what he will receive and what kind of pain the product will solve for him. Many people carefully monitor weight, it is worth noting for the consumer that CrunchieMunchies cereal is less caloric than 96% of competitors' cereal and the second conclusion is that CrunchieMunchies cereal contains 44% fewer calories than other 96% brands of cereal (the last slogan will be much more attractive and pleasant for the client, because the client immediately sees his benefit: how much calories consumed by him will decrease, consuming CrunchieMunchies instead of other brands).\n"
   ]
  },
  {
   "cell_type": "code",
   "execution_count": null,
   "id": "d5581878",
   "metadata": {},
   "outputs": [],
   "source": []
  }
 ],
 "metadata": {
  "kernelspec": {
   "display_name": "Python 3 (ipykernel)",
   "language": "python",
   "name": "python3"
  },
  "language_info": {
   "codemirror_mode": {
    "name": "ipython",
    "version": 3
   },
   "file_extension": ".py",
   "mimetype": "text/x-python",
   "name": "python",
   "nbconvert_exporter": "python",
   "pygments_lexer": "ipython3",
   "version": "3.7.6"
  }
 },
 "nbformat": 4,
 "nbformat_minor": 5
}
